{
 "cells": [
  {
   "cell_type": "markdown",
   "metadata": {},
   "source": [
    "# Frontend Demonstration\n",
    "These are two examples of a frontend for your project, but don't limit yourself to this example. Think about what kind of interface makes the most sense for your application and branch out on Google to look for any libraries that you think look fun to learn and useful for your application.\n",
    "\n",
    "> * **NOTE**: Your frontend will need to use more of your API endpoints than mine does, but this should help you get started if you want to use a similar method*"
   ]
  },
  {
   "cell_type": "markdown",
   "metadata": {},
   "source": [
    "## To start, we need some data\n",
    "Just like in Individual Assignment 4, we'll use the `requests` module to get our data from our API"
   ]
  },
  {
   "cell_type": "code",
   "execution_count": 106,
   "metadata": {},
   "outputs": [
    {
     "name": "stdout",
     "output_type": "stream",
     "text": [
      "      id    ppg  rank               team\n",
      "0     99  47.38     1                LSU\n",
      "1     61  40.14     2            Georgia\n",
      "2    145  39.71     3           Ole Miss\n",
      "3    142  33.88     4           Missouri\n",
      "4    245  32.00     5          Texas A&M\n",
      "5   2633  31.57     6          Tennessee\n",
      "6     96  31.29     7           Kentucky\n",
      "7    333  30.62     8            Alabama\n",
      "8     57  29.14     9            Florida\n",
      "9    238  27.75    10         Vanderbilt\n",
      "10   344  26.86    11  Mississippi State\n",
      "11     2  26.71    12             Auburn\n",
      "12     8  26.50    13           Arkansas\n",
      "13  2579  25.38    14     South Carolina\n"
     ]
    }
   ],
   "source": [
    "import requests\n",
    "import pandas as pd\n",
    "\n",
    "# Get data about SEC team's 2023 season PPGs\n",
    "ppg_response = requests.get('http://127.0.0.1:5000/ppg?conference=SEC&season=2023')\n",
    "\n",
    "if ppg_response.status_code == 200:\n",
    "\n",
    "    # Plotly uses dataframes, so let's use Pandas to read in the json into a dataframe\n",
    "    ppg_df = pd.read_json(ppg_response.text)\n",
    "    print(ppg_df)\n",
    "    \n",
    "else:\n",
    "    print(f\"Something went wrong: {ppg_response.text}\")"
   ]
  },
  {
   "cell_type": "markdown",
   "metadata": {},
   "source": [
    "## Plotting results with Plotly\n",
    "Now let's look at a new library to make some nice plots of our Points-Per-Game API endpoint results. [Here](https://www.geeksforgeeks.org/python-plotly-tutorial/) is a good tutorial to help you get started with Plotly Express, and [here](https://plotly.com/python/) is all of the official documentation. Plotly is definitely not the only plotting library out there, so feel free to explore others, but I like Plotly because it allows the user to interact with your plots.\n",
    "\n",
    "*To install*, run `pip install plotly` in your terminal."
   ]
  },
  {
   "cell_type": "code",
   "execution_count": 107,
   "metadata": {},
   "outputs": [
    {
     "data": {
      "application/vnd.plotly.v1+json": {
       "config": {
        "plotlyServerURL": "https://plot.ly"
       },
       "data": [
        {
         "alignmentgroup": "True",
         "customdata": [
          [
           1,
           99
          ]
         ],
         "hovertemplate": "team=%{y}<br>ppg=%{x}<br>rank=%{customdata[0]}<br>id=%{customdata[1]}<extra></extra>",
         "legendgroup": "LSU",
         "marker": {
          "color": "#636efa",
          "pattern": {
           "shape": ""
          }
         },
         "name": "LSU",
         "offsetgroup": "LSU",
         "orientation": "h",
         "showlegend": true,
         "textposition": "auto",
         "type": "bar",
         "x": [
          47.38
         ],
         "xaxis": "x",
         "y": [
          "LSU"
         ],
         "yaxis": "y"
        },
        {
         "alignmentgroup": "True",
         "customdata": [
          [
           2,
           61
          ]
         ],
         "hovertemplate": "team=%{y}<br>ppg=%{x}<br>rank=%{customdata[0]}<br>id=%{customdata[1]}<extra></extra>",
         "legendgroup": "Georgia",
         "marker": {
          "color": "#EF553B",
          "pattern": {
           "shape": ""
          }
         },
         "name": "Georgia",
         "offsetgroup": "Georgia",
         "orientation": "h",
         "showlegend": true,
         "textposition": "auto",
         "type": "bar",
         "x": [
          40.14
         ],
         "xaxis": "x",
         "y": [
          "Georgia"
         ],
         "yaxis": "y"
        },
        {
         "alignmentgroup": "True",
         "customdata": [
          [
           3,
           145
          ]
         ],
         "hovertemplate": "team=%{y}<br>ppg=%{x}<br>rank=%{customdata[0]}<br>id=%{customdata[1]}<extra></extra>",
         "legendgroup": "Ole Miss",
         "marker": {
          "color": "#00cc96",
          "pattern": {
           "shape": ""
          }
         },
         "name": "Ole Miss",
         "offsetgroup": "Ole Miss",
         "orientation": "h",
         "showlegend": true,
         "textposition": "auto",
         "type": "bar",
         "x": [
          39.71
         ],
         "xaxis": "x",
         "y": [
          "Ole Miss"
         ],
         "yaxis": "y"
        },
        {
         "alignmentgroup": "True",
         "customdata": [
          [
           4,
           142
          ]
         ],
         "hovertemplate": "team=%{y}<br>ppg=%{x}<br>rank=%{customdata[0]}<br>id=%{customdata[1]}<extra></extra>",
         "legendgroup": "Missouri",
         "marker": {
          "color": "#ab63fa",
          "pattern": {
           "shape": ""
          }
         },
         "name": "Missouri",
         "offsetgroup": "Missouri",
         "orientation": "h",
         "showlegend": true,
         "textposition": "auto",
         "type": "bar",
         "x": [
          33.88
         ],
         "xaxis": "x",
         "y": [
          "Missouri"
         ],
         "yaxis": "y"
        },
        {
         "alignmentgroup": "True",
         "customdata": [
          [
           5,
           245
          ]
         ],
         "hovertemplate": "team=%{y}<br>ppg=%{x}<br>rank=%{customdata[0]}<br>id=%{customdata[1]}<extra></extra>",
         "legendgroup": "Texas A&M",
         "marker": {
          "color": "#FFA15A",
          "pattern": {
           "shape": ""
          }
         },
         "name": "Texas A&M",
         "offsetgroup": "Texas A&M",
         "orientation": "h",
         "showlegend": true,
         "textposition": "auto",
         "type": "bar",
         "x": [
          32
         ],
         "xaxis": "x",
         "y": [
          "Texas A&M"
         ],
         "yaxis": "y"
        },
        {
         "alignmentgroup": "True",
         "customdata": [
          [
           6,
           2633
          ]
         ],
         "hovertemplate": "team=%{y}<br>ppg=%{x}<br>rank=%{customdata[0]}<br>id=%{customdata[1]}<extra></extra>",
         "legendgroup": "Tennessee",
         "marker": {
          "color": "#19d3f3",
          "pattern": {
           "shape": ""
          }
         },
         "name": "Tennessee",
         "offsetgroup": "Tennessee",
         "orientation": "h",
         "showlegend": true,
         "textposition": "auto",
         "type": "bar",
         "x": [
          31.57
         ],
         "xaxis": "x",
         "y": [
          "Tennessee"
         ],
         "yaxis": "y"
        },
        {
         "alignmentgroup": "True",
         "customdata": [
          [
           7,
           96
          ]
         ],
         "hovertemplate": "team=%{y}<br>ppg=%{x}<br>rank=%{customdata[0]}<br>id=%{customdata[1]}<extra></extra>",
         "legendgroup": "Kentucky",
         "marker": {
          "color": "#FF6692",
          "pattern": {
           "shape": ""
          }
         },
         "name": "Kentucky",
         "offsetgroup": "Kentucky",
         "orientation": "h",
         "showlegend": true,
         "textposition": "auto",
         "type": "bar",
         "x": [
          31.29
         ],
         "xaxis": "x",
         "y": [
          "Kentucky"
         ],
         "yaxis": "y"
        },
        {
         "alignmentgroup": "True",
         "customdata": [
          [
           8,
           333
          ]
         ],
         "hovertemplate": "team=%{y}<br>ppg=%{x}<br>rank=%{customdata[0]}<br>id=%{customdata[1]}<extra></extra>",
         "legendgroup": "Alabama",
         "marker": {
          "color": "#B6E880",
          "pattern": {
           "shape": ""
          }
         },
         "name": "Alabama",
         "offsetgroup": "Alabama",
         "orientation": "h",
         "showlegend": true,
         "textposition": "auto",
         "type": "bar",
         "x": [
          30.62
         ],
         "xaxis": "x",
         "y": [
          "Alabama"
         ],
         "yaxis": "y"
        },
        {
         "alignmentgroup": "True",
         "customdata": [
          [
           9,
           57
          ]
         ],
         "hovertemplate": "team=%{y}<br>ppg=%{x}<br>rank=%{customdata[0]}<br>id=%{customdata[1]}<extra></extra>",
         "legendgroup": "Florida",
         "marker": {
          "color": "#FF97FF",
          "pattern": {
           "shape": ""
          }
         },
         "name": "Florida",
         "offsetgroup": "Florida",
         "orientation": "h",
         "showlegend": true,
         "textposition": "auto",
         "type": "bar",
         "x": [
          29.14
         ],
         "xaxis": "x",
         "y": [
          "Florida"
         ],
         "yaxis": "y"
        },
        {
         "alignmentgroup": "True",
         "customdata": [
          [
           10,
           238
          ]
         ],
         "hovertemplate": "team=%{y}<br>ppg=%{x}<br>rank=%{customdata[0]}<br>id=%{customdata[1]}<extra></extra>",
         "legendgroup": "Vanderbilt",
         "marker": {
          "color": "#FECB52",
          "pattern": {
           "shape": ""
          }
         },
         "name": "Vanderbilt",
         "offsetgroup": "Vanderbilt",
         "orientation": "h",
         "showlegend": true,
         "textposition": "auto",
         "type": "bar",
         "x": [
          27.75
         ],
         "xaxis": "x",
         "y": [
          "Vanderbilt"
         ],
         "yaxis": "y"
        },
        {
         "alignmentgroup": "True",
         "customdata": [
          [
           11,
           344
          ]
         ],
         "hovertemplate": "team=%{y}<br>ppg=%{x}<br>rank=%{customdata[0]}<br>id=%{customdata[1]}<extra></extra>",
         "legendgroup": "Mississippi State",
         "marker": {
          "color": "#636efa",
          "pattern": {
           "shape": ""
          }
         },
         "name": "Mississippi State",
         "offsetgroup": "Mississippi State",
         "orientation": "h",
         "showlegend": true,
         "textposition": "auto",
         "type": "bar",
         "x": [
          26.86
         ],
         "xaxis": "x",
         "y": [
          "Mississippi State"
         ],
         "yaxis": "y"
        },
        {
         "alignmentgroup": "True",
         "customdata": [
          [
           12,
           2
          ]
         ],
         "hovertemplate": "team=%{y}<br>ppg=%{x}<br>rank=%{customdata[0]}<br>id=%{customdata[1]}<extra></extra>",
         "legendgroup": "Auburn",
         "marker": {
          "color": "#EF553B",
          "pattern": {
           "shape": ""
          }
         },
         "name": "Auburn",
         "offsetgroup": "Auburn",
         "orientation": "h",
         "showlegend": true,
         "textposition": "auto",
         "type": "bar",
         "x": [
          26.71
         ],
         "xaxis": "x",
         "y": [
          "Auburn"
         ],
         "yaxis": "y"
        },
        {
         "alignmentgroup": "True",
         "customdata": [
          [
           13,
           8
          ]
         ],
         "hovertemplate": "team=%{y}<br>ppg=%{x}<br>rank=%{customdata[0]}<br>id=%{customdata[1]}<extra></extra>",
         "legendgroup": "Arkansas",
         "marker": {
          "color": "#00cc96",
          "pattern": {
           "shape": ""
          }
         },
         "name": "Arkansas",
         "offsetgroup": "Arkansas",
         "orientation": "h",
         "showlegend": true,
         "textposition": "auto",
         "type": "bar",
         "x": [
          26.5
         ],
         "xaxis": "x",
         "y": [
          "Arkansas"
         ],
         "yaxis": "y"
        },
        {
         "alignmentgroup": "True",
         "customdata": [
          [
           14,
           2579
          ]
         ],
         "hovertemplate": "team=%{y}<br>ppg=%{x}<br>rank=%{customdata[0]}<br>id=%{customdata[1]}<extra></extra>",
         "legendgroup": "South Carolina",
         "marker": {
          "color": "#ab63fa",
          "pattern": {
           "shape": ""
          }
         },
         "name": "South Carolina",
         "offsetgroup": "South Carolina",
         "orientation": "h",
         "showlegend": true,
         "textposition": "auto",
         "type": "bar",
         "x": [
          25.38
         ],
         "xaxis": "x",
         "y": [
          "South Carolina"
         ],
         "yaxis": "y"
        }
       ],
       "layout": {
        "barmode": "relative",
        "height": 400,
        "legend": {
         "title": {
          "text": "team"
         },
         "tracegroupgap": 0
        },
        "template": {
         "data": {
          "bar": [
           {
            "error_x": {
             "color": "#2a3f5f"
            },
            "error_y": {
             "color": "#2a3f5f"
            },
            "marker": {
             "line": {
              "color": "#E5ECF6",
              "width": 0.5
             },
             "pattern": {
              "fillmode": "overlay",
              "size": 10,
              "solidity": 0.2
             }
            },
            "type": "bar"
           }
          ],
          "barpolar": [
           {
            "marker": {
             "line": {
              "color": "#E5ECF6",
              "width": 0.5
             },
             "pattern": {
              "fillmode": "overlay",
              "size": 10,
              "solidity": 0.2
             }
            },
            "type": "barpolar"
           }
          ],
          "carpet": [
           {
            "aaxis": {
             "endlinecolor": "#2a3f5f",
             "gridcolor": "white",
             "linecolor": "white",
             "minorgridcolor": "white",
             "startlinecolor": "#2a3f5f"
            },
            "baxis": {
             "endlinecolor": "#2a3f5f",
             "gridcolor": "white",
             "linecolor": "white",
             "minorgridcolor": "white",
             "startlinecolor": "#2a3f5f"
            },
            "type": "carpet"
           }
          ],
          "choropleth": [
           {
            "colorbar": {
             "outlinewidth": 0,
             "ticks": ""
            },
            "type": "choropleth"
           }
          ],
          "contour": [
           {
            "colorbar": {
             "outlinewidth": 0,
             "ticks": ""
            },
            "colorscale": [
             [
              0,
              "#0d0887"
             ],
             [
              0.1111111111111111,
              "#46039f"
             ],
             [
              0.2222222222222222,
              "#7201a8"
             ],
             [
              0.3333333333333333,
              "#9c179e"
             ],
             [
              0.4444444444444444,
              "#bd3786"
             ],
             [
              0.5555555555555556,
              "#d8576b"
             ],
             [
              0.6666666666666666,
              "#ed7953"
             ],
             [
              0.7777777777777778,
              "#fb9f3a"
             ],
             [
              0.8888888888888888,
              "#fdca26"
             ],
             [
              1,
              "#f0f921"
             ]
            ],
            "type": "contour"
           }
          ],
          "contourcarpet": [
           {
            "colorbar": {
             "outlinewidth": 0,
             "ticks": ""
            },
            "type": "contourcarpet"
           }
          ],
          "heatmap": [
           {
            "colorbar": {
             "outlinewidth": 0,
             "ticks": ""
            },
            "colorscale": [
             [
              0,
              "#0d0887"
             ],
             [
              0.1111111111111111,
              "#46039f"
             ],
             [
              0.2222222222222222,
              "#7201a8"
             ],
             [
              0.3333333333333333,
              "#9c179e"
             ],
             [
              0.4444444444444444,
              "#bd3786"
             ],
             [
              0.5555555555555556,
              "#d8576b"
             ],
             [
              0.6666666666666666,
              "#ed7953"
             ],
             [
              0.7777777777777778,
              "#fb9f3a"
             ],
             [
              0.8888888888888888,
              "#fdca26"
             ],
             [
              1,
              "#f0f921"
             ]
            ],
            "type": "heatmap"
           }
          ],
          "heatmapgl": [
           {
            "colorbar": {
             "outlinewidth": 0,
             "ticks": ""
            },
            "colorscale": [
             [
              0,
              "#0d0887"
             ],
             [
              0.1111111111111111,
              "#46039f"
             ],
             [
              0.2222222222222222,
              "#7201a8"
             ],
             [
              0.3333333333333333,
              "#9c179e"
             ],
             [
              0.4444444444444444,
              "#bd3786"
             ],
             [
              0.5555555555555556,
              "#d8576b"
             ],
             [
              0.6666666666666666,
              "#ed7953"
             ],
             [
              0.7777777777777778,
              "#fb9f3a"
             ],
             [
              0.8888888888888888,
              "#fdca26"
             ],
             [
              1,
              "#f0f921"
             ]
            ],
            "type": "heatmapgl"
           }
          ],
          "histogram": [
           {
            "marker": {
             "pattern": {
              "fillmode": "overlay",
              "size": 10,
              "solidity": 0.2
             }
            },
            "type": "histogram"
           }
          ],
          "histogram2d": [
           {
            "colorbar": {
             "outlinewidth": 0,
             "ticks": ""
            },
            "colorscale": [
             [
              0,
              "#0d0887"
             ],
             [
              0.1111111111111111,
              "#46039f"
             ],
             [
              0.2222222222222222,
              "#7201a8"
             ],
             [
              0.3333333333333333,
              "#9c179e"
             ],
             [
              0.4444444444444444,
              "#bd3786"
             ],
             [
              0.5555555555555556,
              "#d8576b"
             ],
             [
              0.6666666666666666,
              "#ed7953"
             ],
             [
              0.7777777777777778,
              "#fb9f3a"
             ],
             [
              0.8888888888888888,
              "#fdca26"
             ],
             [
              1,
              "#f0f921"
             ]
            ],
            "type": "histogram2d"
           }
          ],
          "histogram2dcontour": [
           {
            "colorbar": {
             "outlinewidth": 0,
             "ticks": ""
            },
            "colorscale": [
             [
              0,
              "#0d0887"
             ],
             [
              0.1111111111111111,
              "#46039f"
             ],
             [
              0.2222222222222222,
              "#7201a8"
             ],
             [
              0.3333333333333333,
              "#9c179e"
             ],
             [
              0.4444444444444444,
              "#bd3786"
             ],
             [
              0.5555555555555556,
              "#d8576b"
             ],
             [
              0.6666666666666666,
              "#ed7953"
             ],
             [
              0.7777777777777778,
              "#fb9f3a"
             ],
             [
              0.8888888888888888,
              "#fdca26"
             ],
             [
              1,
              "#f0f921"
             ]
            ],
            "type": "histogram2dcontour"
           }
          ],
          "mesh3d": [
           {
            "colorbar": {
             "outlinewidth": 0,
             "ticks": ""
            },
            "type": "mesh3d"
           }
          ],
          "parcoords": [
           {
            "line": {
             "colorbar": {
              "outlinewidth": 0,
              "ticks": ""
             }
            },
            "type": "parcoords"
           }
          ],
          "pie": [
           {
            "automargin": true,
            "type": "pie"
           }
          ],
          "scatter": [
           {
            "fillpattern": {
             "fillmode": "overlay",
             "size": 10,
             "solidity": 0.2
            },
            "type": "scatter"
           }
          ],
          "scatter3d": [
           {
            "line": {
             "colorbar": {
              "outlinewidth": 0,
              "ticks": ""
             }
            },
            "marker": {
             "colorbar": {
              "outlinewidth": 0,
              "ticks": ""
             }
            },
            "type": "scatter3d"
           }
          ],
          "scattercarpet": [
           {
            "marker": {
             "colorbar": {
              "outlinewidth": 0,
              "ticks": ""
             }
            },
            "type": "scattercarpet"
           }
          ],
          "scattergeo": [
           {
            "marker": {
             "colorbar": {
              "outlinewidth": 0,
              "ticks": ""
             }
            },
            "type": "scattergeo"
           }
          ],
          "scattergl": [
           {
            "marker": {
             "colorbar": {
              "outlinewidth": 0,
              "ticks": ""
             }
            },
            "type": "scattergl"
           }
          ],
          "scattermapbox": [
           {
            "marker": {
             "colorbar": {
              "outlinewidth": 0,
              "ticks": ""
             }
            },
            "type": "scattermapbox"
           }
          ],
          "scatterpolar": [
           {
            "marker": {
             "colorbar": {
              "outlinewidth": 0,
              "ticks": ""
             }
            },
            "type": "scatterpolar"
           }
          ],
          "scatterpolargl": [
           {
            "marker": {
             "colorbar": {
              "outlinewidth": 0,
              "ticks": ""
             }
            },
            "type": "scatterpolargl"
           }
          ],
          "scatterternary": [
           {
            "marker": {
             "colorbar": {
              "outlinewidth": 0,
              "ticks": ""
             }
            },
            "type": "scatterternary"
           }
          ],
          "surface": [
           {
            "colorbar": {
             "outlinewidth": 0,
             "ticks": ""
            },
            "colorscale": [
             [
              0,
              "#0d0887"
             ],
             [
              0.1111111111111111,
              "#46039f"
             ],
             [
              0.2222222222222222,
              "#7201a8"
             ],
             [
              0.3333333333333333,
              "#9c179e"
             ],
             [
              0.4444444444444444,
              "#bd3786"
             ],
             [
              0.5555555555555556,
              "#d8576b"
             ],
             [
              0.6666666666666666,
              "#ed7953"
             ],
             [
              0.7777777777777778,
              "#fb9f3a"
             ],
             [
              0.8888888888888888,
              "#fdca26"
             ],
             [
              1,
              "#f0f921"
             ]
            ],
            "type": "surface"
           }
          ],
          "table": [
           {
            "cells": {
             "fill": {
              "color": "#EBF0F8"
             },
             "line": {
              "color": "white"
             }
            },
            "header": {
             "fill": {
              "color": "#C8D4E3"
             },
             "line": {
              "color": "white"
             }
            },
            "type": "table"
           }
          ]
         },
         "layout": {
          "annotationdefaults": {
           "arrowcolor": "#2a3f5f",
           "arrowhead": 0,
           "arrowwidth": 1
          },
          "autotypenumbers": "strict",
          "coloraxis": {
           "colorbar": {
            "outlinewidth": 0,
            "ticks": ""
           }
          },
          "colorscale": {
           "diverging": [
            [
             0,
             "#8e0152"
            ],
            [
             0.1,
             "#c51b7d"
            ],
            [
             0.2,
             "#de77ae"
            ],
            [
             0.3,
             "#f1b6da"
            ],
            [
             0.4,
             "#fde0ef"
            ],
            [
             0.5,
             "#f7f7f7"
            ],
            [
             0.6,
             "#e6f5d0"
            ],
            [
             0.7,
             "#b8e186"
            ],
            [
             0.8,
             "#7fbc41"
            ],
            [
             0.9,
             "#4d9221"
            ],
            [
             1,
             "#276419"
            ]
           ],
           "sequential": [
            [
             0,
             "#0d0887"
            ],
            [
             0.1111111111111111,
             "#46039f"
            ],
            [
             0.2222222222222222,
             "#7201a8"
            ],
            [
             0.3333333333333333,
             "#9c179e"
            ],
            [
             0.4444444444444444,
             "#bd3786"
            ],
            [
             0.5555555555555556,
             "#d8576b"
            ],
            [
             0.6666666666666666,
             "#ed7953"
            ],
            [
             0.7777777777777778,
             "#fb9f3a"
            ],
            [
             0.8888888888888888,
             "#fdca26"
            ],
            [
             1,
             "#f0f921"
            ]
           ],
           "sequentialminus": [
            [
             0,
             "#0d0887"
            ],
            [
             0.1111111111111111,
             "#46039f"
            ],
            [
             0.2222222222222222,
             "#7201a8"
            ],
            [
             0.3333333333333333,
             "#9c179e"
            ],
            [
             0.4444444444444444,
             "#bd3786"
            ],
            [
             0.5555555555555556,
             "#d8576b"
            ],
            [
             0.6666666666666666,
             "#ed7953"
            ],
            [
             0.7777777777777778,
             "#fb9f3a"
            ],
            [
             0.8888888888888888,
             "#fdca26"
            ],
            [
             1,
             "#f0f921"
            ]
           ]
          },
          "colorway": [
           "#636efa",
           "#EF553B",
           "#00cc96",
           "#ab63fa",
           "#FFA15A",
           "#19d3f3",
           "#FF6692",
           "#B6E880",
           "#FF97FF",
           "#FECB52"
          ],
          "font": {
           "color": "#2a3f5f"
          },
          "geo": {
           "bgcolor": "white",
           "lakecolor": "white",
           "landcolor": "#E5ECF6",
           "showlakes": true,
           "showland": true,
           "subunitcolor": "white"
          },
          "hoverlabel": {
           "align": "left"
          },
          "hovermode": "closest",
          "mapbox": {
           "style": "light"
          },
          "paper_bgcolor": "white",
          "plot_bgcolor": "#E5ECF6",
          "polar": {
           "angularaxis": {
            "gridcolor": "white",
            "linecolor": "white",
            "ticks": ""
           },
           "bgcolor": "#E5ECF6",
           "radialaxis": {
            "gridcolor": "white",
            "linecolor": "white",
            "ticks": ""
           }
          },
          "scene": {
           "xaxis": {
            "backgroundcolor": "#E5ECF6",
            "gridcolor": "white",
            "gridwidth": 2,
            "linecolor": "white",
            "showbackground": true,
            "ticks": "",
            "zerolinecolor": "white"
           },
           "yaxis": {
            "backgroundcolor": "#E5ECF6",
            "gridcolor": "white",
            "gridwidth": 2,
            "linecolor": "white",
            "showbackground": true,
            "ticks": "",
            "zerolinecolor": "white"
           },
           "zaxis": {
            "backgroundcolor": "#E5ECF6",
            "gridcolor": "white",
            "gridwidth": 2,
            "linecolor": "white",
            "showbackground": true,
            "ticks": "",
            "zerolinecolor": "white"
           }
          },
          "shapedefaults": {
           "line": {
            "color": "#2a3f5f"
           }
          },
          "ternary": {
           "aaxis": {
            "gridcolor": "white",
            "linecolor": "white",
            "ticks": ""
           },
           "baxis": {
            "gridcolor": "white",
            "linecolor": "white",
            "ticks": ""
           },
           "bgcolor": "#E5ECF6",
           "caxis": {
            "gridcolor": "white",
            "linecolor": "white",
            "ticks": ""
           }
          },
          "title": {
           "x": 0.05
          },
          "xaxis": {
           "automargin": true,
           "gridcolor": "white",
           "linecolor": "white",
           "ticks": "",
           "title": {
            "standoff": 15
           },
           "zerolinecolor": "white",
           "zerolinewidth": 2
          },
          "yaxis": {
           "automargin": true,
           "gridcolor": "white",
           "linecolor": "white",
           "ticks": "",
           "title": {
            "standoff": 15
           },
           "zerolinecolor": "white",
           "zerolinewidth": 2
          }
         }
        },
        "title": {
         "text": "Team Points Per Game"
        },
        "xaxis": {
         "anchor": "y",
         "domain": [
          0,
          1
         ],
         "title": {
          "text": "ppg"
         }
        },
        "yaxis": {
         "anchor": "x",
         "categoryarray": [
          "South Carolina",
          "Arkansas",
          "Auburn",
          "Mississippi State",
          "Vanderbilt",
          "Florida",
          "Alabama",
          "Kentucky",
          "Tennessee",
          "Texas A&M",
          "Missouri",
          "Ole Miss",
          "Georgia",
          "LSU"
         ],
         "categoryorder": "array",
         "domain": [
          0,
          1
         ],
         "title": {
          "text": "team"
         }
        }
       }
      }
     },
     "metadata": {},
     "output_type": "display_data"
    }
   ],
   "source": [
    "import requests\n",
    "import pandas as pd\n",
    "import plotly.express as px\n",
    "\n",
    "# Get data about SEC team's 2023 season PPGs\n",
    "ppg_response = requests.get('http://127.0.0.1:5000/ppg?conference=SEC&season=2023')\n",
    "\n",
    "if ppg_response.status_code == 200:\n",
    "\n",
    "    # Plotly uses dataframes, so let's use Pandas to read in the json into a dataframe\n",
    "    ppg_df = pd.read_json(ppg_response.text)\n",
    "\n",
    "    #--------------------------------------------------------------------\n",
    "    # Now let's create a horizontal bar graph with Plotly\n",
    "    #      https://plotly.com/python/bar-charts/ \n",
    "    fig = px.bar(ppg_df,\n",
    "                 x=\"ppg\", \n",
    "                 y=\"team\", \n",
    "                 orientation='h',\n",
    "                 hover_data=['rank','id','team','ppg'],\n",
    "                 height=400,\n",
    "                 color='team',\n",
    "                 title='Team Points Per Game')\n",
    "    \n",
    "    # Show our graph\n",
    "    fig.show()\n",
    "    #--------------------------------------------------------------------\n",
    "\n",
    "else:\n",
    "    print(f\"Something went wrong: {ppg_response.text}\")"
   ]
  },
  {
   "cell_type": "markdown",
   "metadata": {},
   "source": [
    "Plotly has a lot of optional parameters that you can use to make your plots look and behave in different ways. Let's use our `/teams` endpoint now to get some more information about each team like their primary color and use that to make our plot look better."
   ]
  },
  {
   "cell_type": "code",
   "execution_count": 108,
   "metadata": {},
   "outputs": [
    {
     "name": "stdout",
     "output_type": "stream",
     "text": [
      "      id    ppg  rank               team abbreviation alt_color    color  \\\n",
      "0     99  47.38     1                LSU          LSU   #2b0d57  #fdd023   \n",
      "1     61  40.14     2            Georgia          UGA   #000000  #CC0000   \n",
      "2    145  39.71     3           Ole Miss         MISS   #00205b  #001148   \n",
      "3    142  33.88     4           Missouri          MIZ   #000000  #000000   \n",
      "4    245  32.00     5          Texas A&M         TA&M   #ffffff  #5C0025   \n",
      "5   2633  31.57     6          Tennessee         TENN   #ffffff  #EE9627   \n",
      "6     96  31.29     7           Kentucky           UK   #ffffff  #005DAA   \n",
      "7    333  30.62     8            Alabama          ALA   #f1f2f3  #690014   \n",
      "8     57  29.14     9            Florida          FLA   #0021a5  #0021A5   \n",
      "9    238  27.75    10         Vanderbilt          VAN   #231f20  #000000   \n",
      "10   344  26.86    11  Mississippi State         MSST   #c8c8c8  #762123   \n",
      "11     2  26.71    12             Auburn          AUB   #f1f2f3  #03244d   \n",
      "12     8  26.50    13           Arkansas          ARK   #000000  #9c1831   \n",
      "13  2579  25.38    14     South Carolina           SC   #000000  #670010   \n",
      "\n",
      "   conference        mascot             school  \n",
      "0         SEC        Tigers                LSU  \n",
      "1         SEC      Bulldogs            Georgia  \n",
      "2         SEC        Rebels           Ole Miss  \n",
      "3         SEC        Tigers           Missouri  \n",
      "4         SEC        Aggies          Texas A&M  \n",
      "5         SEC    Volunteers          Tennessee  \n",
      "6         SEC      Wildcats           Kentucky  \n",
      "7         SEC  Crimson Tide            Alabama  \n",
      "8         SEC        Gators            Florida  \n",
      "9         SEC    Commodores         Vanderbilt  \n",
      "10        SEC      Bulldogs  Mississippi State  \n",
      "11        SEC        Tigers             Auburn  \n",
      "12        SEC    Razorbacks           Arkansas  \n",
      "13        SEC     Gamecocks     South Carolina  \n"
     ]
    },
    {
     "data": {
      "application/vnd.plotly.v1+json": {
       "config": {
        "plotlyServerURL": "https://plot.ly"
       },
       "data": [
        {
         "alignmentgroup": "True",
         "customdata": [
          [
           1,
           99,
           "Tigers"
          ]
         ],
         "hovertemplate": "team=%{y}<br>ppg=%{x}<br>rank=%{customdata[0]}<br>id=%{customdata[1]}<br>mascot=%{customdata[2]}<extra></extra>",
         "legendgroup": "LSU",
         "marker": {
          "color": "#fdd023",
          "pattern": {
           "shape": ""
          }
         },
         "name": "LSU",
         "offsetgroup": "LSU",
         "orientation": "h",
         "showlegend": true,
         "textposition": "auto",
         "type": "bar",
         "x": [
          47.38
         ],
         "xaxis": "x",
         "y": [
          "LSU"
         ],
         "yaxis": "y"
        },
        {
         "alignmentgroup": "True",
         "customdata": [
          [
           2,
           61,
           "Bulldogs"
          ]
         ],
         "hovertemplate": "team=%{y}<br>ppg=%{x}<br>rank=%{customdata[0]}<br>id=%{customdata[1]}<br>mascot=%{customdata[2]}<extra></extra>",
         "legendgroup": "Georgia",
         "marker": {
          "color": "#CC0000",
          "pattern": {
           "shape": ""
          }
         },
         "name": "Georgia",
         "offsetgroup": "Georgia",
         "orientation": "h",
         "showlegend": true,
         "textposition": "auto",
         "type": "bar",
         "x": [
          40.14
         ],
         "xaxis": "x",
         "y": [
          "Georgia"
         ],
         "yaxis": "y"
        },
        {
         "alignmentgroup": "True",
         "customdata": [
          [
           3,
           145,
           "Rebels"
          ]
         ],
         "hovertemplate": "team=%{y}<br>ppg=%{x}<br>rank=%{customdata[0]}<br>id=%{customdata[1]}<br>mascot=%{customdata[2]}<extra></extra>",
         "legendgroup": "Ole Miss",
         "marker": {
          "color": "#001148",
          "pattern": {
           "shape": ""
          }
         },
         "name": "Ole Miss",
         "offsetgroup": "Ole Miss",
         "orientation": "h",
         "showlegend": true,
         "textposition": "auto",
         "type": "bar",
         "x": [
          39.71
         ],
         "xaxis": "x",
         "y": [
          "Ole Miss"
         ],
         "yaxis": "y"
        },
        {
         "alignmentgroup": "True",
         "customdata": [
          [
           4,
           142,
           "Tigers"
          ]
         ],
         "hovertemplate": "team=%{y}<br>ppg=%{x}<br>rank=%{customdata[0]}<br>id=%{customdata[1]}<br>mascot=%{customdata[2]}<extra></extra>",
         "legendgroup": "Missouri",
         "marker": {
          "color": "#000000",
          "pattern": {
           "shape": ""
          }
         },
         "name": "Missouri",
         "offsetgroup": "Missouri",
         "orientation": "h",
         "showlegend": true,
         "textposition": "auto",
         "type": "bar",
         "x": [
          33.88
         ],
         "xaxis": "x",
         "y": [
          "Missouri"
         ],
         "yaxis": "y"
        },
        {
         "alignmentgroup": "True",
         "customdata": [
          [
           5,
           245,
           "Aggies"
          ]
         ],
         "hovertemplate": "team=%{y}<br>ppg=%{x}<br>rank=%{customdata[0]}<br>id=%{customdata[1]}<br>mascot=%{customdata[2]}<extra></extra>",
         "legendgroup": "Texas A&M",
         "marker": {
          "color": "#5C0025",
          "pattern": {
           "shape": ""
          }
         },
         "name": "Texas A&M",
         "offsetgroup": "Texas A&M",
         "orientation": "h",
         "showlegend": true,
         "textposition": "auto",
         "type": "bar",
         "x": [
          32
         ],
         "xaxis": "x",
         "y": [
          "Texas A&M"
         ],
         "yaxis": "y"
        },
        {
         "alignmentgroup": "True",
         "customdata": [
          [
           6,
           2633,
           "Volunteers"
          ]
         ],
         "hovertemplate": "team=%{y}<br>ppg=%{x}<br>rank=%{customdata[0]}<br>id=%{customdata[1]}<br>mascot=%{customdata[2]}<extra></extra>",
         "legendgroup": "Tennessee",
         "marker": {
          "color": "#EE9627",
          "pattern": {
           "shape": ""
          }
         },
         "name": "Tennessee",
         "offsetgroup": "Tennessee",
         "orientation": "h",
         "showlegend": true,
         "textposition": "auto",
         "type": "bar",
         "x": [
          31.57
         ],
         "xaxis": "x",
         "y": [
          "Tennessee"
         ],
         "yaxis": "y"
        },
        {
         "alignmentgroup": "True",
         "customdata": [
          [
           7,
           96,
           "Wildcats"
          ]
         ],
         "hovertemplate": "team=%{y}<br>ppg=%{x}<br>rank=%{customdata[0]}<br>id=%{customdata[1]}<br>mascot=%{customdata[2]}<extra></extra>",
         "legendgroup": "Kentucky",
         "marker": {
          "color": "#005DAA",
          "pattern": {
           "shape": ""
          }
         },
         "name": "Kentucky",
         "offsetgroup": "Kentucky",
         "orientation": "h",
         "showlegend": true,
         "textposition": "auto",
         "type": "bar",
         "x": [
          31.29
         ],
         "xaxis": "x",
         "y": [
          "Kentucky"
         ],
         "yaxis": "y"
        },
        {
         "alignmentgroup": "True",
         "customdata": [
          [
           8,
           333,
           "Crimson Tide"
          ]
         ],
         "hovertemplate": "team=%{y}<br>ppg=%{x}<br>rank=%{customdata[0]}<br>id=%{customdata[1]}<br>mascot=%{customdata[2]}<extra></extra>",
         "legendgroup": "Alabama",
         "marker": {
          "color": "#690014",
          "pattern": {
           "shape": ""
          }
         },
         "name": "Alabama",
         "offsetgroup": "Alabama",
         "orientation": "h",
         "showlegend": true,
         "textposition": "auto",
         "type": "bar",
         "x": [
          30.62
         ],
         "xaxis": "x",
         "y": [
          "Alabama"
         ],
         "yaxis": "y"
        },
        {
         "alignmentgroup": "True",
         "customdata": [
          [
           9,
           57,
           "Gators"
          ]
         ],
         "hovertemplate": "team=%{y}<br>ppg=%{x}<br>rank=%{customdata[0]}<br>id=%{customdata[1]}<br>mascot=%{customdata[2]}<extra></extra>",
         "legendgroup": "Florida",
         "marker": {
          "color": "#0021A5",
          "pattern": {
           "shape": ""
          }
         },
         "name": "Florida",
         "offsetgroup": "Florida",
         "orientation": "h",
         "showlegend": true,
         "textposition": "auto",
         "type": "bar",
         "x": [
          29.14
         ],
         "xaxis": "x",
         "y": [
          "Florida"
         ],
         "yaxis": "y"
        },
        {
         "alignmentgroup": "True",
         "customdata": [
          [
           10,
           238,
           "Commodores"
          ]
         ],
         "hovertemplate": "team=%{y}<br>ppg=%{x}<br>rank=%{customdata[0]}<br>id=%{customdata[1]}<br>mascot=%{customdata[2]}<extra></extra>",
         "legendgroup": "Vanderbilt",
         "marker": {
          "color": "#000000",
          "pattern": {
           "shape": ""
          }
         },
         "name": "Vanderbilt",
         "offsetgroup": "Vanderbilt",
         "orientation": "h",
         "showlegend": true,
         "textposition": "auto",
         "type": "bar",
         "x": [
          27.75
         ],
         "xaxis": "x",
         "y": [
          "Vanderbilt"
         ],
         "yaxis": "y"
        },
        {
         "alignmentgroup": "True",
         "customdata": [
          [
           11,
           344,
           "Bulldogs"
          ]
         ],
         "hovertemplate": "team=%{y}<br>ppg=%{x}<br>rank=%{customdata[0]}<br>id=%{customdata[1]}<br>mascot=%{customdata[2]}<extra></extra>",
         "legendgroup": "Mississippi State",
         "marker": {
          "color": "#762123",
          "pattern": {
           "shape": ""
          }
         },
         "name": "Mississippi State",
         "offsetgroup": "Mississippi State",
         "orientation": "h",
         "showlegend": true,
         "textposition": "auto",
         "type": "bar",
         "x": [
          26.86
         ],
         "xaxis": "x",
         "y": [
          "Mississippi State"
         ],
         "yaxis": "y"
        },
        {
         "alignmentgroup": "True",
         "customdata": [
          [
           12,
           2,
           "Tigers"
          ]
         ],
         "hovertemplate": "team=%{y}<br>ppg=%{x}<br>rank=%{customdata[0]}<br>id=%{customdata[1]}<br>mascot=%{customdata[2]}<extra></extra>",
         "legendgroup": "Auburn",
         "marker": {
          "color": "#03244d",
          "pattern": {
           "shape": ""
          }
         },
         "name": "Auburn",
         "offsetgroup": "Auburn",
         "orientation": "h",
         "showlegend": true,
         "textposition": "auto",
         "type": "bar",
         "x": [
          26.71
         ],
         "xaxis": "x",
         "y": [
          "Auburn"
         ],
         "yaxis": "y"
        },
        {
         "alignmentgroup": "True",
         "customdata": [
          [
           13,
           8,
           "Razorbacks"
          ]
         ],
         "hovertemplate": "team=%{y}<br>ppg=%{x}<br>rank=%{customdata[0]}<br>id=%{customdata[1]}<br>mascot=%{customdata[2]}<extra></extra>",
         "legendgroup": "Arkansas",
         "marker": {
          "color": "#9c1831",
          "pattern": {
           "shape": ""
          }
         },
         "name": "Arkansas",
         "offsetgroup": "Arkansas",
         "orientation": "h",
         "showlegend": true,
         "textposition": "auto",
         "type": "bar",
         "x": [
          26.5
         ],
         "xaxis": "x",
         "y": [
          "Arkansas"
         ],
         "yaxis": "y"
        },
        {
         "alignmentgroup": "True",
         "customdata": [
          [
           14,
           2579,
           "Gamecocks"
          ]
         ],
         "hovertemplate": "team=%{y}<br>ppg=%{x}<br>rank=%{customdata[0]}<br>id=%{customdata[1]}<br>mascot=%{customdata[2]}<extra></extra>",
         "legendgroup": "South Carolina",
         "marker": {
          "color": "#670010",
          "pattern": {
           "shape": ""
          }
         },
         "name": "South Carolina",
         "offsetgroup": "South Carolina",
         "orientation": "h",
         "showlegend": true,
         "textposition": "auto",
         "type": "bar",
         "x": [
          25.38
         ],
         "xaxis": "x",
         "y": [
          "South Carolina"
         ],
         "yaxis": "y"
        }
       ],
       "layout": {
        "barmode": "relative",
        "height": 400,
        "legend": {
         "title": {
          "text": "team"
         },
         "tracegroupgap": 0
        },
        "template": {
         "data": {
          "bar": [
           {
            "error_x": {
             "color": "#2a3f5f"
            },
            "error_y": {
             "color": "#2a3f5f"
            },
            "marker": {
             "line": {
              "color": "#E5ECF6",
              "width": 0.5
             },
             "pattern": {
              "fillmode": "overlay",
              "size": 10,
              "solidity": 0.2
             }
            },
            "type": "bar"
           }
          ],
          "barpolar": [
           {
            "marker": {
             "line": {
              "color": "#E5ECF6",
              "width": 0.5
             },
             "pattern": {
              "fillmode": "overlay",
              "size": 10,
              "solidity": 0.2
             }
            },
            "type": "barpolar"
           }
          ],
          "carpet": [
           {
            "aaxis": {
             "endlinecolor": "#2a3f5f",
             "gridcolor": "white",
             "linecolor": "white",
             "minorgridcolor": "white",
             "startlinecolor": "#2a3f5f"
            },
            "baxis": {
             "endlinecolor": "#2a3f5f",
             "gridcolor": "white",
             "linecolor": "white",
             "minorgridcolor": "white",
             "startlinecolor": "#2a3f5f"
            },
            "type": "carpet"
           }
          ],
          "choropleth": [
           {
            "colorbar": {
             "outlinewidth": 0,
             "ticks": ""
            },
            "type": "choropleth"
           }
          ],
          "contour": [
           {
            "colorbar": {
             "outlinewidth": 0,
             "ticks": ""
            },
            "colorscale": [
             [
              0,
              "#0d0887"
             ],
             [
              0.1111111111111111,
              "#46039f"
             ],
             [
              0.2222222222222222,
              "#7201a8"
             ],
             [
              0.3333333333333333,
              "#9c179e"
             ],
             [
              0.4444444444444444,
              "#bd3786"
             ],
             [
              0.5555555555555556,
              "#d8576b"
             ],
             [
              0.6666666666666666,
              "#ed7953"
             ],
             [
              0.7777777777777778,
              "#fb9f3a"
             ],
             [
              0.8888888888888888,
              "#fdca26"
             ],
             [
              1,
              "#f0f921"
             ]
            ],
            "type": "contour"
           }
          ],
          "contourcarpet": [
           {
            "colorbar": {
             "outlinewidth": 0,
             "ticks": ""
            },
            "type": "contourcarpet"
           }
          ],
          "heatmap": [
           {
            "colorbar": {
             "outlinewidth": 0,
             "ticks": ""
            },
            "colorscale": [
             [
              0,
              "#0d0887"
             ],
             [
              0.1111111111111111,
              "#46039f"
             ],
             [
              0.2222222222222222,
              "#7201a8"
             ],
             [
              0.3333333333333333,
              "#9c179e"
             ],
             [
              0.4444444444444444,
              "#bd3786"
             ],
             [
              0.5555555555555556,
              "#d8576b"
             ],
             [
              0.6666666666666666,
              "#ed7953"
             ],
             [
              0.7777777777777778,
              "#fb9f3a"
             ],
             [
              0.8888888888888888,
              "#fdca26"
             ],
             [
              1,
              "#f0f921"
             ]
            ],
            "type": "heatmap"
           }
          ],
          "heatmapgl": [
           {
            "colorbar": {
             "outlinewidth": 0,
             "ticks": ""
            },
            "colorscale": [
             [
              0,
              "#0d0887"
             ],
             [
              0.1111111111111111,
              "#46039f"
             ],
             [
              0.2222222222222222,
              "#7201a8"
             ],
             [
              0.3333333333333333,
              "#9c179e"
             ],
             [
              0.4444444444444444,
              "#bd3786"
             ],
             [
              0.5555555555555556,
              "#d8576b"
             ],
             [
              0.6666666666666666,
              "#ed7953"
             ],
             [
              0.7777777777777778,
              "#fb9f3a"
             ],
             [
              0.8888888888888888,
              "#fdca26"
             ],
             [
              1,
              "#f0f921"
             ]
            ],
            "type": "heatmapgl"
           }
          ],
          "histogram": [
           {
            "marker": {
             "pattern": {
              "fillmode": "overlay",
              "size": 10,
              "solidity": 0.2
             }
            },
            "type": "histogram"
           }
          ],
          "histogram2d": [
           {
            "colorbar": {
             "outlinewidth": 0,
             "ticks": ""
            },
            "colorscale": [
             [
              0,
              "#0d0887"
             ],
             [
              0.1111111111111111,
              "#46039f"
             ],
             [
              0.2222222222222222,
              "#7201a8"
             ],
             [
              0.3333333333333333,
              "#9c179e"
             ],
             [
              0.4444444444444444,
              "#bd3786"
             ],
             [
              0.5555555555555556,
              "#d8576b"
             ],
             [
              0.6666666666666666,
              "#ed7953"
             ],
             [
              0.7777777777777778,
              "#fb9f3a"
             ],
             [
              0.8888888888888888,
              "#fdca26"
             ],
             [
              1,
              "#f0f921"
             ]
            ],
            "type": "histogram2d"
           }
          ],
          "histogram2dcontour": [
           {
            "colorbar": {
             "outlinewidth": 0,
             "ticks": ""
            },
            "colorscale": [
             [
              0,
              "#0d0887"
             ],
             [
              0.1111111111111111,
              "#46039f"
             ],
             [
              0.2222222222222222,
              "#7201a8"
             ],
             [
              0.3333333333333333,
              "#9c179e"
             ],
             [
              0.4444444444444444,
              "#bd3786"
             ],
             [
              0.5555555555555556,
              "#d8576b"
             ],
             [
              0.6666666666666666,
              "#ed7953"
             ],
             [
              0.7777777777777778,
              "#fb9f3a"
             ],
             [
              0.8888888888888888,
              "#fdca26"
             ],
             [
              1,
              "#f0f921"
             ]
            ],
            "type": "histogram2dcontour"
           }
          ],
          "mesh3d": [
           {
            "colorbar": {
             "outlinewidth": 0,
             "ticks": ""
            },
            "type": "mesh3d"
           }
          ],
          "parcoords": [
           {
            "line": {
             "colorbar": {
              "outlinewidth": 0,
              "ticks": ""
             }
            },
            "type": "parcoords"
           }
          ],
          "pie": [
           {
            "automargin": true,
            "type": "pie"
           }
          ],
          "scatter": [
           {
            "fillpattern": {
             "fillmode": "overlay",
             "size": 10,
             "solidity": 0.2
            },
            "type": "scatter"
           }
          ],
          "scatter3d": [
           {
            "line": {
             "colorbar": {
              "outlinewidth": 0,
              "ticks": ""
             }
            },
            "marker": {
             "colorbar": {
              "outlinewidth": 0,
              "ticks": ""
             }
            },
            "type": "scatter3d"
           }
          ],
          "scattercarpet": [
           {
            "marker": {
             "colorbar": {
              "outlinewidth": 0,
              "ticks": ""
             }
            },
            "type": "scattercarpet"
           }
          ],
          "scattergeo": [
           {
            "marker": {
             "colorbar": {
              "outlinewidth": 0,
              "ticks": ""
             }
            },
            "type": "scattergeo"
           }
          ],
          "scattergl": [
           {
            "marker": {
             "colorbar": {
              "outlinewidth": 0,
              "ticks": ""
             }
            },
            "type": "scattergl"
           }
          ],
          "scattermapbox": [
           {
            "marker": {
             "colorbar": {
              "outlinewidth": 0,
              "ticks": ""
             }
            },
            "type": "scattermapbox"
           }
          ],
          "scatterpolar": [
           {
            "marker": {
             "colorbar": {
              "outlinewidth": 0,
              "ticks": ""
             }
            },
            "type": "scatterpolar"
           }
          ],
          "scatterpolargl": [
           {
            "marker": {
             "colorbar": {
              "outlinewidth": 0,
              "ticks": ""
             }
            },
            "type": "scatterpolargl"
           }
          ],
          "scatterternary": [
           {
            "marker": {
             "colorbar": {
              "outlinewidth": 0,
              "ticks": ""
             }
            },
            "type": "scatterternary"
           }
          ],
          "surface": [
           {
            "colorbar": {
             "outlinewidth": 0,
             "ticks": ""
            },
            "colorscale": [
             [
              0,
              "#0d0887"
             ],
             [
              0.1111111111111111,
              "#46039f"
             ],
             [
              0.2222222222222222,
              "#7201a8"
             ],
             [
              0.3333333333333333,
              "#9c179e"
             ],
             [
              0.4444444444444444,
              "#bd3786"
             ],
             [
              0.5555555555555556,
              "#d8576b"
             ],
             [
              0.6666666666666666,
              "#ed7953"
             ],
             [
              0.7777777777777778,
              "#fb9f3a"
             ],
             [
              0.8888888888888888,
              "#fdca26"
             ],
             [
              1,
              "#f0f921"
             ]
            ],
            "type": "surface"
           }
          ],
          "table": [
           {
            "cells": {
             "fill": {
              "color": "#EBF0F8"
             },
             "line": {
              "color": "white"
             }
            },
            "header": {
             "fill": {
              "color": "#C8D4E3"
             },
             "line": {
              "color": "white"
             }
            },
            "type": "table"
           }
          ]
         },
         "layout": {
          "annotationdefaults": {
           "arrowcolor": "#2a3f5f",
           "arrowhead": 0,
           "arrowwidth": 1
          },
          "autotypenumbers": "strict",
          "coloraxis": {
           "colorbar": {
            "outlinewidth": 0,
            "ticks": ""
           }
          },
          "colorscale": {
           "diverging": [
            [
             0,
             "#8e0152"
            ],
            [
             0.1,
             "#c51b7d"
            ],
            [
             0.2,
             "#de77ae"
            ],
            [
             0.3,
             "#f1b6da"
            ],
            [
             0.4,
             "#fde0ef"
            ],
            [
             0.5,
             "#f7f7f7"
            ],
            [
             0.6,
             "#e6f5d0"
            ],
            [
             0.7,
             "#b8e186"
            ],
            [
             0.8,
             "#7fbc41"
            ],
            [
             0.9,
             "#4d9221"
            ],
            [
             1,
             "#276419"
            ]
           ],
           "sequential": [
            [
             0,
             "#0d0887"
            ],
            [
             0.1111111111111111,
             "#46039f"
            ],
            [
             0.2222222222222222,
             "#7201a8"
            ],
            [
             0.3333333333333333,
             "#9c179e"
            ],
            [
             0.4444444444444444,
             "#bd3786"
            ],
            [
             0.5555555555555556,
             "#d8576b"
            ],
            [
             0.6666666666666666,
             "#ed7953"
            ],
            [
             0.7777777777777778,
             "#fb9f3a"
            ],
            [
             0.8888888888888888,
             "#fdca26"
            ],
            [
             1,
             "#f0f921"
            ]
           ],
           "sequentialminus": [
            [
             0,
             "#0d0887"
            ],
            [
             0.1111111111111111,
             "#46039f"
            ],
            [
             0.2222222222222222,
             "#7201a8"
            ],
            [
             0.3333333333333333,
             "#9c179e"
            ],
            [
             0.4444444444444444,
             "#bd3786"
            ],
            [
             0.5555555555555556,
             "#d8576b"
            ],
            [
             0.6666666666666666,
             "#ed7953"
            ],
            [
             0.7777777777777778,
             "#fb9f3a"
            ],
            [
             0.8888888888888888,
             "#fdca26"
            ],
            [
             1,
             "#f0f921"
            ]
           ]
          },
          "colorway": [
           "#636efa",
           "#EF553B",
           "#00cc96",
           "#ab63fa",
           "#FFA15A",
           "#19d3f3",
           "#FF6692",
           "#B6E880",
           "#FF97FF",
           "#FECB52"
          ],
          "font": {
           "color": "#2a3f5f"
          },
          "geo": {
           "bgcolor": "white",
           "lakecolor": "white",
           "landcolor": "#E5ECF6",
           "showlakes": true,
           "showland": true,
           "subunitcolor": "white"
          },
          "hoverlabel": {
           "align": "left"
          },
          "hovermode": "closest",
          "mapbox": {
           "style": "light"
          },
          "paper_bgcolor": "white",
          "plot_bgcolor": "#E5ECF6",
          "polar": {
           "angularaxis": {
            "gridcolor": "white",
            "linecolor": "white",
            "ticks": ""
           },
           "bgcolor": "#E5ECF6",
           "radialaxis": {
            "gridcolor": "white",
            "linecolor": "white",
            "ticks": ""
           }
          },
          "scene": {
           "xaxis": {
            "backgroundcolor": "#E5ECF6",
            "gridcolor": "white",
            "gridwidth": 2,
            "linecolor": "white",
            "showbackground": true,
            "ticks": "",
            "zerolinecolor": "white"
           },
           "yaxis": {
            "backgroundcolor": "#E5ECF6",
            "gridcolor": "white",
            "gridwidth": 2,
            "linecolor": "white",
            "showbackground": true,
            "ticks": "",
            "zerolinecolor": "white"
           },
           "zaxis": {
            "backgroundcolor": "#E5ECF6",
            "gridcolor": "white",
            "gridwidth": 2,
            "linecolor": "white",
            "showbackground": true,
            "ticks": "",
            "zerolinecolor": "white"
           }
          },
          "shapedefaults": {
           "line": {
            "color": "#2a3f5f"
           }
          },
          "ternary": {
           "aaxis": {
            "gridcolor": "white",
            "linecolor": "white",
            "ticks": ""
           },
           "baxis": {
            "gridcolor": "white",
            "linecolor": "white",
            "ticks": ""
           },
           "bgcolor": "#E5ECF6",
           "caxis": {
            "gridcolor": "white",
            "linecolor": "white",
            "ticks": ""
           }
          },
          "title": {
           "x": 0.05
          },
          "xaxis": {
           "automargin": true,
           "gridcolor": "white",
           "linecolor": "white",
           "ticks": "",
           "title": {
            "standoff": 15
           },
           "zerolinecolor": "white",
           "zerolinewidth": 2
          },
          "yaxis": {
           "automargin": true,
           "gridcolor": "white",
           "linecolor": "white",
           "ticks": "",
           "title": {
            "standoff": 15
           },
           "zerolinecolor": "white",
           "zerolinewidth": 2
          }
         }
        },
        "title": {
         "text": "Team Points Per Game"
        },
        "xaxis": {
         "anchor": "y",
         "domain": [
          0,
          1
         ],
         "title": {
          "text": "ppg"
         }
        },
        "yaxis": {
         "anchor": "x",
         "categoryarray": [
          "South Carolina",
          "Arkansas",
          "Auburn",
          "Mississippi State",
          "Vanderbilt",
          "Florida",
          "Alabama",
          "Kentucky",
          "Tennessee",
          "Texas A&M",
          "Missouri",
          "Ole Miss",
          "Georgia",
          "LSU"
         ],
         "categoryorder": "array",
         "domain": [
          0,
          1
         ],
         "title": {
          "text": "team"
         }
        }
       }
      }
     },
     "metadata": {},
     "output_type": "display_data"
    }
   ],
   "source": [
    "import requests\n",
    "import plotly.express as px\n",
    "import pandas as pd\n",
    "\n",
    "#--------------------------------------------------------------------\n",
    "# Base URL of our API\n",
    "base_url = 'http://127.0.0.1:5000'\n",
    "\n",
    "# Get data about Teams\n",
    "teams_response = requests.get(base_url + '/teams')\n",
    "if teams_response.status_code == 200:\n",
    "    teams_df = pd.read_json(teams_response.text)\n",
    "else:\n",
    "    print(f\"Something went wrong: {teams_response.text}\")\n",
    "#--------------------------------------------------------------------\n",
    "\n",
    "# Get data about SEC team's 2023 season PPGs\n",
    "ppg_response = requests.get(base_url + '/ppg?conference=SEC&season=2023')\n",
    "\n",
    "if ppg_response.status_code == 200:\n",
    "\n",
    "    # Plotly uses dataframes, so let's use Pandas to read in the json into a dataframe\n",
    "    ppg_df = pd.read_json(ppg_response.text)\n",
    "\n",
    "    #--------------------------------------------------------------------\n",
    "    # Merge Teams and PPG dataframes using the ID column \n",
    "    merged_df = ppg_df.merge(teams_df, left_on='id', right_on='id')\n",
    "    merged_df.sort_values('ppg') # Make sure our dataframe is still sorted correctly after the merge\n",
    "    print(merged_df)\n",
    "    #--------------------------------------------------------------------\n",
    "\n",
    "    # Now let's create a horizontal bar graph with Plotly and use the team colors to color code our bars\n",
    "    fig = px.bar(merged_df,  #  <-- Updated to use merged dataframe\n",
    "                 x=\"ppg\", \n",
    "                 y=\"team\", \n",
    "                 orientation='h',\n",
    "                 hover_data=['rank','id','team','ppg','mascot'],  #  <-- Updated to add mascot\n",
    "                 height=400,\n",
    "                 color='team',\n",
    "                 color_discrete_sequence=merged_df['color'],  #  <-- Added to color bars\n",
    "                 title='Team Points Per Game')\n",
    "    \n",
    "    # Show the graph\n",
    "    fig.show()\n",
    "\n",
    "else:\n",
    "    print(f\"Something went wrong: {ppg_response.text}\")"
   ]
  },
  {
   "cell_type": "markdown",
   "metadata": {},
   "source": [
    "## Now let's make it interactive using Dash\n",
    "Dash is an open-source framework for building analytical applications, with no Javascript required, and it is tightly integrated with the Plotly graphing library.\n",
    "\n",
    "Let's start out by looking at the **Bar charts in Dash** example from [here](https://plotly.com/python/bar-charts/)"
   ]
  },
  {
   "cell_type": "code",
   "execution_count": 109,
   "metadata": {},
   "outputs": [
    {
     "data": {
      "text/html": [
       "\n",
       "        <iframe\n",
       "            width=\"100%\"\n",
       "            height=\"650\"\n",
       "            src=\"http://127.0.0.1:8050/\"\n",
       "            frameborder=\"0\"\n",
       "            allowfullscreen\n",
       "            \n",
       "        ></iframe>\n",
       "        "
      ],
      "text/plain": [
       "<IPython.lib.display.IFrame at 0x1fb2e86bb50>"
      ]
     },
     "metadata": {},
     "output_type": "display_data"
    }
   ],
   "source": [
    "from dash import Dash, dcc, html, Input, Output\n",
    "import plotly.express as px\n",
    "\n",
    "app = Dash(__name__)\n",
    "\n",
    "\n",
    "app.layout = html.Div([\n",
    "    html.H4('Restaurant tips by day of week'),\n",
    "    dcc.Dropdown(\n",
    "        id=\"dropdown\",\n",
    "        options=[\"Fri\", \"Sat\", \"Sun\"],\n",
    "        value=\"Fri\",\n",
    "        clearable=False,\n",
    "    ),\n",
    "    dcc.Graph(id=\"graph\"),\n",
    "])\n",
    "\n",
    "\n",
    "@app.callback(\n",
    "    Output(\"graph\", \"figure\"), \n",
    "    Input(\"dropdown\", \"value\"))\n",
    "def update_bar_chart(day):\n",
    "    df = px.data.tips() # replace with your own data source\n",
    "    mask = df[\"day\"] == day\n",
    "    fig = px.bar(df[mask], x=\"sex\", y=\"total_bill\", \n",
    "                 color=\"smoker\", barmode=\"group\")\n",
    "    return fig\n",
    "\n",
    "\n",
    "app.run_server(debug=True)"
   ]
  },
  {
   "cell_type": "markdown",
   "metadata": {},
   "source": [
    "Now let's integrate our previous code into their example to create our own dashboard."
   ]
  },
  {
   "cell_type": "code",
   "execution_count": 110,
   "metadata": {},
   "outputs": [
    {
     "data": {
      "text/html": [
       "\n",
       "        <iframe\n",
       "            width=\"100%\"\n",
       "            height=\"650\"\n",
       "            src=\"http://127.0.0.1:8050/\"\n",
       "            frameborder=\"0\"\n",
       "            allowfullscreen\n",
       "            \n",
       "        ></iframe>\n",
       "        "
      ],
      "text/plain": [
       "<IPython.lib.display.IFrame at 0x1fb3cfb1e10>"
      ]
     },
     "metadata": {},
     "output_type": "display_data"
    }
   ],
   "source": [
    "from dash import Dash, dcc, html, Input, Output\n",
    "import plotly.express as px\n",
    "\n",
    "#--------------------------------------------------------------------\n",
    "import requests\n",
    "import pandas as pd\n",
    "\n",
    "# Establish some information about our API url\n",
    "base_url = 'http://127.0.0.1:5000'\n",
    "\n",
    "# Get data about Teams\n",
    "teams_response = requests.get(base_url + '/teams')\n",
    "if teams_response.status_code == 200:\n",
    "    teams_df = pd.read_json(teams_response.text)\n",
    "else:\n",
    "    print(f\"Something went wrong: {teams_response.text}\")\n",
    "#--------------------------------------------------------------------\n",
    "\n",
    "app = Dash(__name__)\n",
    "\n",
    "\n",
    "app.layout = html.Div([\n",
    "    html.H4('Team Points Per Game'),\n",
    "    html.P('Season:'),\n",
    "    dcc.Dropdown(\n",
    "        id=\"season_dropdown\",\n",
    "        options=['2023'],\n",
    "        value='2023',\n",
    "        clearable=False,\n",
    "    ),\n",
    "    html.P('Conference:'),\n",
    "    dcc.Dropdown(\n",
    "        id=\"conference_dropdown\",\n",
    "        options=['SEC'],\n",
    "        value='SEC',\n",
    "        clearable=False,\n",
    "    ),\n",
    "    dcc.Graph(id=\"graph\"),\n",
    "])\n",
    "\n",
    "\n",
    "@app.callback(\n",
    "    Output(\"graph\", \"figure\"), \n",
    "    Input(\"season_dropdown\", \"value\"), \n",
    "    Input(\"conference_dropdown\", \"value\"))\n",
    "def update_bar_chart(season, conference):\n",
    "\n",
    "    #--------------------------------------------------------------------\n",
    "    # Get data about SEC team's 2023 season PPGs\n",
    "    ppg_response = requests.get(base_url + f'/ppg?conference={conference}&season={season}')  #  <-- We can apply our filters here\n",
    "\n",
    "    if ppg_response.status_code == 200:\n",
    "\n",
    "        # Plotly uses dataframes, so let's use Pandas to read in the json into a dataframe\n",
    "        ppg_df = pd.read_json(ppg_response.text)\n",
    "\n",
    "        # Merge Teams and PPG dataframes using the ID column \n",
    "        merged_df = ppg_df.merge(teams_df, left_on='id', right_on='id')\n",
    "        merged_df.sort_values('ppg') # Make sure our dataframe is still sorted correctly after the merge\n",
    "\n",
    "        # Now let's create a horizontal bar graph with Plotly and use the team colors to color code our bars\n",
    "        fig = px.bar(merged_df,\n",
    "                    x=\"ppg\", \n",
    "                    y=\"team\", \n",
    "                    orientation='h',\n",
    "                    hover_data=['rank','id','team','ppg','mascot'],\n",
    "                    height=400,\n",
    "                    color='team',\n",
    "                    color_discrete_sequence=merged_df['color'],\n",
    "                    title='Team Points Per Game')\n",
    "        \n",
    "        # return the graph\n",
    "        return fig\n",
    "    else:\n",
    "        print(f\"Something went wrong: {ppg_response.text}\")\n",
    "    #--------------------------------------------------------------------\n",
    "    \n",
    "\n",
    "app.run_server(debug=True)"
   ]
  },
  {
   "cell_type": "markdown",
   "metadata": {},
   "source": [
    "Now, let's use some new API endpoints to populate our dropdowns."
   ]
  },
  {
   "cell_type": "code",
   "execution_count": 111,
   "metadata": {},
   "outputs": [
    {
     "data": {
      "text/html": [
       "\n",
       "        <iframe\n",
       "            width=\"100%\"\n",
       "            height=\"650\"\n",
       "            src=\"http://127.0.0.1:8050/\"\n",
       "            frameborder=\"0\"\n",
       "            allowfullscreen\n",
       "            \n",
       "        ></iframe>\n",
       "        "
      ],
      "text/plain": [
       "<IPython.lib.display.IFrame at 0x1fb3d3389d0>"
      ]
     },
     "metadata": {},
     "output_type": "display_data"
    }
   ],
   "source": [
    "from dash import Dash, dcc, html, Input, Output\n",
    "import plotly.express as px\n",
    "import requests\n",
    "import pandas as pd\n",
    "\n",
    "# Establish some information about our API url\n",
    "base_url = 'http://127.0.0.1:5000'\n",
    "\n",
    "# Get data about Teams\n",
    "teams_response = requests.get(base_url + '/teams')\n",
    "if teams_response.status_code == 200:\n",
    "    teams_df = pd.read_json(teams_response.text)\n",
    "else:\n",
    "    print(f\"Something went wrong: {teams_response.text}\")\n",
    "\n",
    "#--------------------------------------------------------------------\n",
    "# Get list of available seasons from our API\n",
    "response = requests.get(base_url + '/seasons')\n",
    "if response.status_code == 200:\n",
    "    seasons_list = response.json()\n",
    "else:\n",
    "    seasons_list = []\n",
    "\n",
    "# Get list of available conferences from our API\n",
    "response = requests.get(base_url + '/conferences')\n",
    "if response.status_code == 200:\n",
    "    conference_list = response.json()\n",
    "    conference_list.remove(None)\n",
    "else:\n",
    "    conference_list = []\n",
    "#--------------------------------------------------------------------\n",
    "\n",
    "app = Dash(__name__)\n",
    "\n",
    "\n",
    "app.layout = html.Div([\n",
    "    html.H4('Team Points Per Game'),\n",
    "    html.P('Season:'),\n",
    "    dcc.Dropdown(\n",
    "        id=\"season_dropdown\",\n",
    "        options=seasons_list,  #  <-- Added list here\n",
    "        value='2023',\n",
    "        clearable=False,\n",
    "    ),\n",
    "    html.P('Conference:'),\n",
    "    dcc.Dropdown(\n",
    "        id=\"conference_dropdown\",\n",
    "        options=conference_list,  #  <-- Added list here\n",
    "        value='SEC',\n",
    "        clearable=False,\n",
    "    ),\n",
    "    dcc.Graph(id=\"graph\"),\n",
    "])\n",
    "\n",
    "\n",
    "@app.callback(\n",
    "    Output(\"graph\", \"figure\"), \n",
    "    Input(\"season_dropdown\", \"value\"), \n",
    "    Input(\"conference_dropdown\", \"value\"))\n",
    "def update_bar_chart(season, conference):\n",
    "\n",
    "    # Get data about SEC team's 2023 season PPGs\n",
    "    ppg_response = requests.get(base_url + f'/ppg?conference={conference}&season={season}')\n",
    "\n",
    "    if ppg_response.status_code == 200:\n",
    "\n",
    "        # Plotly uses dataframes, so let's use Pandas to read in the json into a dataframe\n",
    "        ppg_df = pd.read_json(ppg_response.text)\n",
    "\n",
    "        # Merge Teams and PPG dataframes using the ID column \n",
    "        merged_df = ppg_df.merge(teams_df, left_on='id', right_on='id')\n",
    "        merged_df.sort_values('ppg') # Make sure our dataframe is still sorted correctly after the merge\n",
    "\n",
    "        # Now let's create a horizontal bar graph with Plotly and use the team colors to color code our bars\n",
    "        fig = px.bar(merged_df,\n",
    "                    x=\"ppg\", \n",
    "                    y=\"team\", \n",
    "                    orientation='h',\n",
    "                    hover_data=['rank','id','team','ppg','mascot'],\n",
    "                    height=400,\n",
    "                    color='team',\n",
    "                    color_discrete_sequence=merged_df['color'],\n",
    "                    title='Team Points Per Game')\n",
    "        \n",
    "        # return the graph\n",
    "        return fig\n",
    "    else:\n",
    "        print(f\"Something went wrong: {ppg_response.text}\")\n",
    "    \n",
    "\n",
    "app.run_server(debug=True)"
   ]
  },
  {
   "cell_type": "markdown",
   "metadata": {},
   "source": [
    "<br/>\n",
    "<hr/>\n",
    "<br/>\n",
    "\n",
    "## User Inputs with Jupyter Notebook Widgets\n",
    "Even though I'm using a Jupyter Notebook, I'd like to have some easy to use user input widgets for my users to use so that they don't have to try to update my code themselves. **Jupyter Notebook Widgets** are  a great solution for this. \n",
    "To use these, you'll need to install the `ipywigets` library. [Here](https://saturncloud.io/blog/understanding-jupyter-notebook-widgets/#:~:text=Widgets%20in%20Jupyter%20Notebook%20are,%2C%20text%20boxes%2C%20and%20more.) is a great tutorial that introduces this library, and [here](https://ipywidgets.readthedocs.io/en/latest/examples/Widget%20List.html) is more information on the available widgets, but you can always find a lot more information on Google.\n",
    "\n",
    "*In your terminal:*\n",
    "```bash\n",
    "pip install ipywidgets\n",
    "```\n",
    "\n",
    "Let's start out by looking at their example..."
   ]
  },
  {
   "cell_type": "code",
   "execution_count": 112,
   "metadata": {},
   "outputs": [
    {
     "data": {
      "application/vnd.jupyter.widget-view+json": {
       "model_id": "a892d9fe4d5a46e39f9b27dc7c0e3e3b",
       "version_major": 2,
       "version_minor": 0
      },
      "text/plain": [
       "Dropdown(description='Number:', index=1, options=('1', '2', '3'), value='2')"
      ]
     },
     "execution_count": 112,
     "metadata": {},
     "output_type": "execute_result"
    }
   ],
   "source": [
    "import ipywidgets as widgets\n",
    "\n",
    "# Create dropdown\n",
    "my_dropdown = widgets.Dropdown(\n",
    "                                options=['1', '2', '3'],\n",
    "                                value='2',\n",
    "                                description='Number:',\n",
    "                                disabled=False,\n",
    "                              )\n",
    "\n",
    "# Display dropdown\n",
    "my_dropdown"
   ]
  },
  {
   "cell_type": "markdown",
   "metadata": {},
   "source": [
    "Here is another way that automatically generate the right type of widgets and allows us to run a function anytime they change. See [this](https://ipywidgets.readthedocs.io/en/latest/examples/Using%20Interact.html) for some more examples."
   ]
  },
  {
   "cell_type": "code",
   "execution_count": 113,
   "metadata": {},
   "outputs": [
    {
     "data": {
      "application/vnd.jupyter.widget-view+json": {
       "model_id": "d7637d23079243eeb690dbe8c5b31353",
       "version_major": 2,
       "version_minor": 0
      },
      "text/plain": [
       "interactive(children=(Dropdown(description='Number', options=('1', '2', '3'), value='1'), Output()), _dom_clas…"
      ]
     },
     "metadata": {},
     "output_type": "display_data"
    },
    {
     "name": "stdout",
     "output_type": "stream",
     "text": [
      "The chosen number is ['1', '2', '3']!\n"
     ]
    }
   ],
   "source": [
    "from ipywidgets import interact\n",
    "\n",
    "@interact\n",
    "def print_number_dropdown(Number=['1', '2', '3']):\n",
    "        print(f\"The chosen number is {Number}!\")\n",
    "\n",
    "print_number_dropdown()"
   ]
  },
  {
   "cell_type": "markdown",
   "metadata": {},
   "source": [
    "<br/>\n",
    "Great! Now that that works, let's create a dropdown that uses our API to populate it's options."
   ]
  },
  {
   "cell_type": "code",
   "execution_count": 114,
   "metadata": {},
   "outputs": [
    {
     "data": {
      "application/vnd.jupyter.widget-view+json": {
       "model_id": "2634b03703c2437394106e41c567d32d",
       "version_major": 2,
       "version_minor": 0
      },
      "text/plain": [
       "interactive(children=(Dropdown(description='Conference', options=(None, 'ACC', 'American Athletic', 'American …"
      ]
     },
     "metadata": {},
     "output_type": "display_data"
    }
   ],
   "source": [
    "import requests\n",
    "from ipywidgets import interact\n",
    "\n",
    "# Get list of available conferences from our API\n",
    "response = requests.get('http://127.0.0.1:5000/conferences')\n",
    "if response.status_code == 200:\n",
    "    conference_list = response.json()\n",
    "else:\n",
    "    conference_list = []\n",
    "\n",
    "# Create conference dropdown and define function to run when it is updated\n",
    "@interact\n",
    "def print_conference(Conference=conference_list):\n",
    "    print(f\"The chosen conference is {Conference}!\")\n"
   ]
  },
  {
   "cell_type": "markdown",
   "metadata": {},
   "source": [
    "Let's change it up now, and use some widgets to manipulate data in our system through the API endpoints.\n",
    "\n"
   ]
  },
  {
   "cell_type": "code",
   "execution_count": 115,
   "metadata": {},
   "outputs": [
    {
     "data": {
      "application/vnd.jupyter.widget-view+json": {
       "model_id": "7ba419efa7814848992144df89877cf8",
       "version_major": 2,
       "version_minor": 0
      },
      "text/plain": [
       "HBox(children=(Text(value='', description='ID:'), Text(value='', disabled=True)))"
      ]
     },
     "metadata": {},
     "output_type": "display_data"
    },
    {
     "data": {
      "application/vnd.jupyter.widget-view+json": {
       "model_id": "931db68289534dc89e8afad0c34861d6",
       "version_major": 2,
       "version_minor": 0
      },
      "text/plain": [
       "HBox(children=(Button(button_style='success', description='GET', style=ButtonStyle()), Button(button_style='wa…"
      ]
     },
     "metadata": {},
     "output_type": "display_data"
    },
    {
     "data": {
      "application/vnd.jupyter.widget-view+json": {
       "model_id": "d6f08ed181f642848db85426d9f47317",
       "version_major": 2,
       "version_minor": 0
      },
      "text/plain": [
       "Text(value='', description='School:')"
      ]
     },
     "metadata": {},
     "output_type": "display_data"
    },
    {
     "data": {
      "application/vnd.jupyter.widget-view+json": {
       "model_id": "59c2fb7dfbd849de96c4a76a33baae84",
       "version_major": 2,
       "version_minor": 0
      },
      "text/plain": [
       "Text(value='', description='Mascot:')"
      ]
     },
     "metadata": {},
     "output_type": "display_data"
    },
    {
     "data": {
      "application/vnd.jupyter.widget-view+json": {
       "model_id": "833e16af326d4c888aca9057ebd79c8b",
       "version_major": 2,
       "version_minor": 0
      },
      "text/plain": [
       "Text(value='', description='Abbreviation:')"
      ]
     },
     "metadata": {},
     "output_type": "display_data"
    },
    {
     "data": {
      "application/vnd.jupyter.widget-view+json": {
       "model_id": "c432d2ab502b426197f5073ecf20d875",
       "version_major": 2,
       "version_minor": 0
      },
      "text/plain": [
       "Text(value='', description='Conference:')"
      ]
     },
     "metadata": {},
     "output_type": "display_data"
    },
    {
     "data": {
      "application/vnd.jupyter.widget-view+json": {
       "model_id": "323735443d0f4b55afdfde46317f4514",
       "version_major": 2,
       "version_minor": 0
      },
      "text/plain": [
       "Text(value='', description='Color:')"
      ]
     },
     "metadata": {},
     "output_type": "display_data"
    },
    {
     "data": {
      "application/vnd.jupyter.widget-view+json": {
       "model_id": "1091824f38134aa8ab01e870f78172cf",
       "version_major": 2,
       "version_minor": 0
      },
      "text/plain": [
       "Text(value='', description='Alt Color:')"
      ]
     },
     "metadata": {},
     "output_type": "display_data"
    }
   ],
   "source": [
    "import ipywidgets as widgets\n",
    "import requests\n",
    "import json\n",
    "\n",
    "# Create text widgets\n",
    "id = widgets.Text(description='ID:')\n",
    "school = widgets.Text(description='School:')\n",
    "mascot = widgets.Text(description='Mascot:')\n",
    "abbreviation = widgets.Text(description='Abbreviation:')\n",
    "conference = widgets.Text(description='Conference:')\n",
    "color = widgets.Text(description='Color:')\n",
    "alt_color = widgets.Text(description='Alt Color:')\n",
    "status = widgets.Text(disabled=True)\n",
    "\n",
    "# Create button widgets\n",
    "get_button = widgets.Button(description='GET', button_style='success')\n",
    "put_button = widgets.Button(description='UPDATE', button_style='warning')\n",
    "clear_button = widgets.Button(description='Clear All', button_style='info', icon='eraser')\n",
    "\n",
    "# Group and show widgets\n",
    "id_box = widgets.HBox([id,status])\n",
    "button_box = widgets.HBox([get_button, put_button, clear_button])\n",
    "display(id_box, button_box, school, mascot, abbreviation, conference, color, alt_color)\n",
    "\n",
    "# Function to clear our fields for us (except ID)\n",
    "def clear_fields(b=None):\n",
    "    school.value = ''\n",
    "    mascot.value = ''\n",
    "    abbreviation.value = ''\n",
    "    conference.value = ''\n",
    "    color.value = ''\n",
    "    color.style.background = 'white'\n",
    "    alt_color.value = ''\n",
    "    alt_color.style.background = 'white'\n",
    "    if b is not None:\n",
    "        id.value = ''\n",
    "        status.value = ''\n",
    "        status.style.background = 'white'\n",
    "\n",
    "# functions to interact with the API\n",
    "def get_team(b):\n",
    "    response = requests.get(f'http://127.0.0.1:5000/teams/{id.value}')\n",
    "    if response.status_code == 200:\n",
    "        team_data = response.json()\n",
    "        school.value = str(team_data['school'])\n",
    "        mascot.value = str(team_data['mascot'])\n",
    "        abbreviation.value = str(team_data['abbreviation'])\n",
    "        conference.value = str(team_data['conference'])\n",
    "        color.value = str(team_data['color'])\n",
    "        if str(team_data['color']) != 'None': color.style.background = team_data['color']\n",
    "        alt_color.value = str(team_data['alt_color'])\n",
    "        if str(team_data['alt_color']) != 'None': alt_color.style.background = team_data['alt_color']\n",
    "        status.value = 'SUCCESS'\n",
    "        status.style.background = 'lightgreen'\n",
    "    else:\n",
    "        clear_fields()\n",
    "        status.value = f'ERROR - {response.status_code}'\n",
    "        status.style.background = 'pink'\n",
    "\n",
    "def put_team(b):\n",
    "    team_data = json.dumps({\n",
    "        'school': school.value,\n",
    "        'mascot': mascot.value,\n",
    "        'abbreviation': abbreviation.value,\n",
    "        'conference': conference.value,\n",
    "        'color': color.value,\n",
    "        'alt_color': alt_color.value\n",
    "    })\n",
    "    headers = {'Content-Type': 'application/json'}\n",
    "    response = requests.put(f'http://127.0.0.1:5000/teams/{id.value}', headers=headers, data=team_data)\n",
    "    if response.status_code == 200:\n",
    "        clear_fields()\n",
    "        status.value = 'SUCCESS'\n",
    "        status.style.background = 'lightgreen'\n",
    "    else:\n",
    "        status.value = f'ERROR - {response.status_code}'\n",
    "        status.style.background = 'pink'\n",
    "\n",
    "\n",
    "# Connect our buttons to our API functions\n",
    "get_button.on_click(get_team)\n",
    "put_button.on_click(put_team)\n",
    "clear_button.on_click(clear_fields)\n"
   ]
  }
 ],
 "metadata": {
  "kernelspec": {
   "display_name": "Python 3",
   "language": "python",
   "name": "python3"
  },
  "language_info": {
   "codemirror_mode": {
    "name": "ipython",
    "version": 3
   },
   "file_extension": ".py",
   "mimetype": "text/x-python",
   "name": "python",
   "nbconvert_exporter": "python",
   "pygments_lexer": "ipython3",
   "version": "3.10.7"
  },
  "orig_nbformat": 4
 },
 "nbformat": 4,
 "nbformat_minor": 2
}
